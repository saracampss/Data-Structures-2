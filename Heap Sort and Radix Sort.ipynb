{
 "cells": [
  {
   "cell_type": "code",
   "execution_count": 1,
   "metadata": {},
   "outputs": [],
   "source": [
    "import time \n",
    "import math\n",
    "import matplotlib.pyplot as plt\n",
    "import numpy as np\n",
    "import pandas as pd\n",
    "import seaborn as sns\n",
    "from matplotlib.pyplot import figure\n",
    "\n",
    "sns.set_palette('Accent')\n",
    "sns.set_style('darkgrid')"
   ]
  },
  {
   "cell_type": "code",
   "execution_count": 2,
   "metadata": {},
   "outputs": [],
   "source": [
    "# TAMANHO VETOR 100K - 10M\n",
    "# ELEMENTOS DE 0 À 10M\n",
    "\n",
    "vetorzao1 = np.random.randint(10000000, size=(400000))\n",
    "vetorzao2 = np.random.randint(10000000, size=(800000))\n",
    "vetorzao3 = np.random.randint(10000000, size=(1000000))\n",
    "vetorzao4 = np.random.randint(10000000, size=(1300000))\n",
    "vetorzao5 = np.random.randint(10000000, size=(1600000))\n",
    "vetorzao6 = np.random.randint(10000000, size=(1900000))\n",
    "\n",
    "# TAMANHO VETOR 20K\n",
    "veto1 = list(range(0,200000))\n",
    "veto2 = list(range(0,400000))\n",
    "veto3 = list(range(0,600000))\n",
    "veto4 = list(range(0,800000))\n",
    "veto5 = list(range(0,1000000))\n",
    "veto6 = list(range(0,1200000))\n",
    "\n"
   ]
  },
  {
   "cell_type": "markdown",
   "metadata": {},
   "source": [
    "## Quick Sort\n",
    "\n",
    "#### Características:\n",
    "\n",
    "* Instável \n",
    "* Operações Locais (in-place)\n",
    "* Dividir e Conquistar \n",
    "* O(n log n)\n",
    "\n",
    "#### Definição e Lógica:\n",
    "\n",
    "Usando a abordegam de dividir e conquistar o Quick Sort usa da partição como lógica principal do algorítimo. Uma das característica do Quick Sort é a instabilidade que não pode ser ajustada com mudanças no código.\n",
    "\n",
    "A estratégia consiste em rearranjar as chaves de modo que as chaves menores fiquem antes das chaves maiores. Em seguida o quicksort ordena as duas sublistas de chaves menores e maiores recursivamente até que a lista completa se encontre ordenada. Os passos são:\n",
    "\n",
    "1. Escolher pivô;\n",
    "\n",
    "2. Particionar: rearranjar a lista de forma que todos os elementos anteriores ao pivô sejam menores que ele, e todos os elementos posteriores ao pivô sejam maiores que ele. Ao fim do processo o pivô estará em sua posição final e haverá duas sublistas não ordenadas;\n",
    "\n",
    "3. Recursivamente ordenar a sublista dos elementos menores e a sublista dos elementos maiores;\n",
    "\n",
    "4. O caso base da recursão são as listas de tamanho zero ou um, que estão sempre ordenadas. O processo é finito, pois a cada iteração pelo menos um elemento é posto em sua posição final e não será mais manipulado na iteração seguinte.\n",
    "\n",
    "A escolha do pivô e os passos do Particionar podem ser feitos de diferentes formas e a escolha de uma implementação específica afeta fortemente a performance do algoritmo. A escolha de um pivo ruim pode implicar a mudança de complexidade do algoritmo de O(n log n) para O(n²), por isso escolhemos o Quick Sort usando a mediana de três que consiste em achar qual o melhor pivo entre o primeiro o último e o índice do méio, sendo ele, o pivo, a mediana entre eles, fazendo assim com que mesmo que o vetor esteja ordenado o Quick Sort não caia no pior caso O(n²)."
   ]
  },
  {
   "cell_type": "code",
   "execution_count": 3,
   "metadata": {},
   "outputs": [],
   "source": [
    "def quick_sort(array, begin,end):\n",
    "    if begin < end:\n",
    "        new_begin_end = particion(array, begin, end)\n",
    "        \n",
    "        #Chamada recursiva\n",
    "        quick_sort(array, begin, new_begin_end - 1) # Quick Sort para subarray de zero a pivo - 1\n",
    "        quick_sort(array, new_begin_end + 1, end) # Quick Sort para subarray de pivo + 1 a fim \n",
    "\n",
    "        \n",
    "def particion(array, begin, end) -> (int):\n",
    "    \n",
    "    # Observe que os nomes em português são valores e os inglês são índices\n",
    "    middle = (begin + end) // 2\n",
    "    inicio = array[begin]\n",
    "    meio = array[middle]\n",
    "    final = array[end]\n",
    "    \n",
    "    # Comparação entre entre inicio, meio e fim para achar a mediana\n",
    "    if inicio < meio:\n",
    "        if meio < final:\n",
    "            mediana_index = middle\n",
    "        else:\n",
    "            if inicio < final:\n",
    "                mediana_index = end\n",
    "            else:\n",
    "                mediana_index = begin\n",
    "    else:\n",
    "        if final < meio:\n",
    "            mediana_index = middle\n",
    "        else:\n",
    "            if final < inicio:\n",
    "                mediana_index = end\n",
    "            else: \n",
    "                mediana_index = begin\n",
    "                \n",
    "    # Swap\n",
    "    array[mediana_index], array[end] = array[end], array[mediana_index]\n",
    "    \n",
    "    pivo = array[end]\n",
    "    i = begin - 1\n",
    "    \n",
    "    for j in range(begin, end+1):\n",
    "        if array[j] <= pivo: # Fonte da instabilidade\n",
    "            i += 1\n",
    "            array[i], array[j] = array[j], array[i]\n",
    "                     \n",
    "    return i "
   ]
  },
  {
   "cell_type": "code",
   "execution_count": 4,
   "metadata": {},
   "outputs": [],
   "source": [
    "#VETOR 10M\n",
    "start12_quick = time.time()\n",
    "quick_sort(vetorzao6, 0, len(vetorzao6) - 1)\n",
    "end12_quick = time.time()\n",
    "\n",
    "#VETOR 5M\n",
    "start11_quick = time.time()\n",
    "quick_sort(vetorzao5, 0, len(vetorzao5) - 1)\n",
    "end11_quick = time.time()\n",
    "\n",
    "#VETOR 2M\n",
    "start10_quick = time.time()\n",
    "quick_sort(vetorzao4, 0, len(vetorzao4) - 1)\n",
    "end10_quick = time.time()\n",
    "\n",
    "#VETOR 1M\n",
    "start9_quick = time.time()\n",
    "quick_sort(vetorzao3, 0, len(vetorzao3) - 1)\n",
    "end9_quick = time.time()\n",
    "\n",
    "#VETOR 500K\n",
    "start8_quick = time.time()\n",
    "quick_sort(vetorzao2, 0, len(vetorzao2) - 1)\n",
    "end8_quick = time.time()\n",
    "\n",
    "#VETOR 100K\n",
    "start7_quick = time.time()\n",
    "quick_sort(vetorzao1, 0, len(vetorzao1) - 1)\n",
    "end7_quick = time.time()"
   ]
  },
  {
   "cell_type": "code",
   "execution_count": 5,
   "metadata": {},
   "outputs": [
    {
     "data": {
      "text/plain": [
       "[<matplotlib.lines.Line2D at 0x7f90320d59b0>]"
      ]
     },
     "execution_count": 5,
     "metadata": {},
     "output_type": "execute_result"
    },
    {
     "data": {
      "image/png": "[encoded data removed]",
      "text/plain": [
       "<Figure size 432x288 with 1 Axes>"
      ]
     },
     "metadata": {
      "needs_background": "light"
     },
     "output_type": "display_data"
    }
   ],
   "source": [
    "q7 = end7_quick - start7_quick\n",
    "q8 = end8_quick - start8_quick\n",
    "q9 = end9_quick - start9_quick\n",
    "q10 = end10_quick - start10_quick\n",
    "q11 = end11_quick - start11_quick\n",
    "q12 = end12_quick - start12_quick\n",
    "\n",
    "quick = [q7,q8,q9,q10,q11,q12]\n",
    "\n",
    "plt.plot(quick, linestyle='-', marker='o')"
   ]
  },
  {
   "cell_type": "markdown",
   "metadata": {},
   "source": [
    "## Shell\n",
    "Shell sort é o mais eficiente algoritmo de classificação dentre os de complexidade quadrática. É um refinamento do método de inserção direta. O algoritmo difere do método de inserção direta pelo fato de no lugar de considerar o array a ser ordenado como um único segmento, ele considera vários segmentos sendo aplicado o método de inserção direta em cada um deles. Basicamente o algoritmo passa várias vezes pela lista dividindo o grupo maior em menores. Os grupos menores é aplicado o método da ordenação por insertion sort."
   ]
  },
  {
   "cell_type": "code",
   "execution_count": 6,
   "metadata": {},
   "outputs": [],
   "source": [
    "def shell_sort(arr): \n",
    "  \n",
    "    # Start with a big gap, then reduce the gap \n",
    "    n = len(arr) \n",
    "    gap = n//2\n",
    "  \n",
    "    # Do a gapped insertion sort for this gap size. \n",
    "    # The first gap elements a[0..gap-1] are already in gapped  \n",
    "    # order keep adding one more element until the entire array \n",
    "    # is gap sorted \n",
    "    while gap > 0: \n",
    "  \n",
    "        for i in range(gap,n): \n",
    "  \n",
    "            # add a[i] to the elements that have been gap sorted \n",
    "            # save a[i] in temp and make a hole at position i \n",
    "            temp = arr[i] \n",
    "  \n",
    "            # shift earlier gap-sorted elements up until the correct \n",
    "            # location for a[i] is found \n",
    "            j = i \n",
    "            while  j >= gap and arr[j-gap] >temp: \n",
    "                arr[j] = arr[j-gap] \n",
    "                j -= gap \n",
    "  \n",
    "            # put temp (the original a[i]) in its correct location \n",
    "            arr[j] = temp \n",
    "        gap //= 2"
   ]
  },
  {
   "cell_type": "code",
   "execution_count": 7,
   "metadata": {},
   "outputs": [],
   "source": [
    "#VETOR 200K\n",
    "start1_shell = time.time()\n",
    "shell_sort(vetorzao1)\n",
    "end1_shell = time.time()\n",
    "\n",
    "#VETOR 400K\n",
    "start2_shell = time.time()\n",
    "shell_sort(vetorzao2)\n",
    "end2_shell = time.time()\n",
    "\n",
    "#VETOR 600K\n",
    "start3_shell = time.time()\n",
    "shell_sort(vetorzao3)\n",
    "end3_shell = time.time()\n",
    "\n",
    "#VETOR 800K\n",
    "start4_shell = time.time()\n",
    "shell_sort(vetorzao4)\n",
    "end4_shell = time.time()\n",
    "\n",
    "#VETOR 1M\n",
    "start5_shell = time.time()\n",
    "shell_sort(vetorzao5)\n",
    "end5_shell = time.time()\n",
    "\n",
    "#VETOR 1.2M\n",
    "start6_shell = time.time()\n",
    "shell_sort(vetorzao6)\n",
    "end6_shell = time.time()"
   ]
  },
  {
   "cell_type": "code",
   "execution_count": 8,
   "metadata": {},
   "outputs": [
    {
     "data": {
      "text/plain": [
       "[<matplotlib.lines.Line2D at 0x7f9032074ef0>]"
      ]
     },
     "execution_count": 8,
     "metadata": {},
     "output_type": "execute_result"
    },
    {
     "data": {
      "image/png": "[encoded data removed]",
      "text/plain": [
       "<Figure size 432x288 with 1 Axes>"
      ]
     },
     "metadata": {
      "needs_background": "light"
     },
     "output_type": "display_data"
    }
   ],
   "source": [
    "l1 = end1_shell - start1_shell\n",
    "l2 = end2_shell - start2_shell\n",
    "l3 = end3_shell - start3_shell\n",
    "l4 = end4_shell - start4_shell\n",
    "l5 = end5_shell - start5_shell\n",
    "l6 = end6_shell - start6_shell\n",
    "\n",
    "shell = [l1,l2,l3,l4,l5,l6]\n",
    "\n",
    "plt.plot(shell, linestyle='-', marker='o')"
   ]
  },
  {
   "cell_type": "markdown",
   "metadata": {},
   "source": [
    "## Counting Sort\n",
    "\n",
    "Counting sort é um algoritmo de ordenação estável cuja complexidade é O(n). A ideia básica do counting sort é achar o valor do maior e menor item do vetor para assim criar um vetor intermediário, que começa no índice do menor item e termina no do maior, possuindo todas as posições entre eles. Nesse vetor é armazenado a quantidade de vezes em que os valores aparecem, por exemplo para o vetor *v = [4,5,7,7,6,5]*, o vetor intermediário é *vi = [1,2,1,2]* lembrando que ele começa na posição 4 a posição 7 está armazenado o número dois pois o 7 aparece duas vezes no vetor. O próximo passo é fazer o vetor acumulado, que é a soma indice a indice do vetor intermediário, *Vac = [1,3,4,6]*, perceba que na última posição deve haver o número de itens do vetor V. O último passo é de trás para frente do vetor V colocar o item na posição indicada pelo vetor Vac e diminuir o índice que está nele.\n",
    "\n",
    "* v = [ , , , , , ]  vac = [1,3,4,6]\n",
    "* v = [ , ,5, , , ]  vac = [1,2,4,6]\n",
    "* v = [ , ,5,6, , ]  vac = [1,2,3,6]\n",
    "* v = [ , ,5,6, ,7]  vac = [1,2,3,5]\n",
    "* v = [ , ,5,6,7,7]  vac = [1,2,3,4]\n",
    "* v = [ ,5,5,6,7,7]  vac = [1,1,3,4]\n",
    "* v = [4,5,5,6,7,7]  vac = [0,1,3,4]\n",
    "\n",
    "Perceba que o primeiro item do vetor acumulado é zarado, assim como o último é igual a quantidade de itens do vetor V, esses são indícios da aplicação correta do método."
   ]
  },
  {
   "cell_type": "code",
   "execution_count": 9,
   "metadata": {},
   "outputs": [],
   "source": [
    "def counting_sort( alist ):\n",
    "    a = max( alist )\n",
    "    counter = [0] * ( a + 1 )\n",
    "    for i in alist:\n",
    "        counter[i] += 1\n",
    "    ndx = 0;\n",
    "    \n",
    "    for i in range( len( counter ) ):\n",
    "        while 0 < counter[i]:\n",
    "            alist[ndx] = i\n",
    "            ndx += 1\n",
    "            counter[i] -= 1"
   ]
  },
  {
   "cell_type": "markdown",
   "metadata": {},
   "source": [
    "#### Chamando o Counting para vetores de tamanho 100k até 10M e calculando o tempo de execução*"
   ]
  },
  {
   "cell_type": "code",
   "execution_count": 10,
   "metadata": {},
   "outputs": [],
   "source": [
    "#VETOR 200K\n",
    "start1_counting = time.time()\n",
    "counting_sort(vetorzao1)\n",
    "end1_counting = time.time()\n",
    "\n",
    "#VETOR 400K\n",
    "start2_counting = time.time()\n",
    "counting_sort(vetorzao2)\n",
    "end2_counting = time.time()\n",
    "\n",
    "#VETOR 600K\n",
    "start3_counting = time.time()\n",
    "counting_sort(vetorzao3)\n",
    "end3_counting = time.time()\n",
    "\n",
    "#VETOR 800K\n",
    "start4_counting = time.time()\n",
    "counting_sort(vetorzao4)\n",
    "end4_counting = time.time()\n",
    "\n",
    "#VETOR 1M\n",
    "start5_counting = time.time()\n",
    "counting_sort(vetorzao5)\n",
    "end5_counting = time.time()\n",
    "\n",
    "#VETOR 1.2M\n",
    "start6_counting = time.time()\n",
    "counting_sort(vetorzao6)\n",
    "end6_counting = time.time()"
   ]
  },
  {
   "cell_type": "code",
   "execution_count": 11,
   "metadata": {},
   "outputs": [
    {
     "data": {
      "text/plain": [
       "[<matplotlib.lines.Line2D at 0x7f9031fdfb70>]"
      ]
     },
     "execution_count": 11,
     "metadata": {},
     "output_type": "execute_result"
    },
    {
     "data": {
      "image/png": "[encoded data removed]",
      "text/plain": [
       "<Figure size 432x288 with 1 Axes>"
      ]
     },
     "metadata": {
      "needs_background": "light"
     },
     "output_type": "display_data"
    }
   ],
   "source": [
    "m1 = end1_counting - start1_counting\n",
    "m2 = end2_counting - start2_counting\n",
    "m3 = end3_counting - start3_counting\n",
    "m4 = end4_counting - start4_counting\n",
    "m5 = end5_counting - start5_counting\n",
    "m6 = end6_counting - start6_counting\n",
    "\n",
    "counting = [m1,m2,m3,m4,m5,m6]\n",
    "plt.plot(counting, linestyle='-', marker='o')"
   ]
  },
  {
   "cell_type": "markdown",
   "metadata": {},
   "source": [
    "### Counting Ordenado"
   ]
  },
  {
   "cell_type": "code",
   "execution_count": 12,
   "metadata": {},
   "outputs": [],
   "source": [
    "#VETOR 200K\n",
    "start1_counting = time.time()\n",
    "counting_sort(veto1)\n",
    "end1_counting = time.time()\n",
    "\n",
    "#VETOR 400K\n",
    "start2_counting = time.time()\n",
    "counting_sort(veto2)\n",
    "end2_counting = time.time()\n",
    "\n",
    "#VETOR 600K\n",
    "start3_counting = time.time()\n",
    "counting_sort(veto3)\n",
    "end3_counting = time.time()\n",
    "\n",
    "#VETOR 800K\n",
    "start4_counting = time.time()\n",
    "counting_sort(veto4)\n",
    "end4_counting = time.time()\n",
    "\n",
    "#VETOR 1M\n",
    "start5_counting = time.time()\n",
    "counting_sort(veto5)\n",
    "end5_counting = time.time()\n",
    "\n",
    "#VETOR 1.2M\n",
    "start6_counting = time.time()\n",
    "counting_sort(veto6)\n",
    "end6_counting = time.time()"
   ]
  },
  {
   "cell_type": "code",
   "execution_count": 13,
   "metadata": {},
   "outputs": [
    {
     "data": {
      "text/plain": [
       "[<matplotlib.lines.Line2D at 0x7f9031fb8ba8>]"
      ]
     },
     "execution_count": 13,
     "metadata": {},
     "output_type": "execute_result"
    },
    {
     "data": {
      "image/png": "[encoded data removed]",
      "text/plain": [
       "<Figure size 432x288 with 1 Axes>"
      ]
     },
     "metadata": {
      "needs_background": "light"
     },
     "output_type": "display_data"
    }
   ],
   "source": [
    "o1 = end1_counting - start1_counting\n",
    "o2 = end2_counting - start2_counting\n",
    "o3 = end3_counting - start3_counting\n",
    "o4 = end4_counting - start4_counting\n",
    "o5 = end5_counting - start5_counting\n",
    "o6 = end6_counting - start6_counting\n",
    "\n",
    "counting_ord = [o1,o2,o3,o4,o5,o6]\n",
    "\n",
    "plt.plot(counting_ord, linestyle='-', marker='o')"
   ]
  },
  {
   "cell_type": "markdown",
   "metadata": {},
   "source": [
    "## Radix MSD\n",
    "\n",
    "O Radix sort é um algoritmo de ordenação rápido e estável que pode ser usado para ordenar itens que estão identificados por chaves únicas. Cada chave é uma cadeia de caracteres ou número, e o radix sort ordena estas chaves em qualquer ordem relacionada com a lexicografia. O radix é um algoritmo de complexidade O(n) e estável, que  pode começar pelo último dígito, tambem chamado do less significant digit (LSD), ou pelo primeiro dígito, também chamado de most significant digit (MSD). A forma de executar o algoritmo abordando o LSD ou o MSD é diferente, para o LSD aplicamos o counting sort no vetor, levando em consideração apenas o LSD, na primeira iteração para as próximas serão levadas em consideração os próximos digitos, da esquerda para a direita. Já para  para o MDS a abordagem de baldes é usada, é utilizado o counting sort para ordenar parcialmente o vetor levando em consideração o MSD, após a primeira iteração os itens os quais possuem o mesmo MSD ficam dentro do mesmo balde. Para a segunda iteração é levado em consideração o segundo digito da esquerda para a direita e o mesmo processo de baldes é feito, é feita quantas iterações forem preciso até terminar todos os dígitos dos itens do vetor."
   ]
  },
  {
   "cell_type": "code",
   "execution_count": 14,
   "metadata": {},
   "outputs": [],
   "source": [
    "def radix_msd(arr):\n",
    "    RADIX = 10\n",
    "    maxLength = False\n",
    "    tmp, placement = -1, 1\n",
    " \n",
    "    while not maxLength:\n",
    "        maxLength = True\n",
    "        # declare and initialize buckets\n",
    "        buckets = [list() for _ in range( RADIX )]\n",
    " \n",
    "        # split aList between lists\n",
    "        for  i in arr:\n",
    "            tmp = i // placement\n",
    "            buckets[tmp % RADIX].append( i )\n",
    "            if maxLength and tmp > 0:\n",
    "                maxLength = False\n",
    " \n",
    "        # empty lists into aList array\n",
    "        a = 0\n",
    "        for b in range( RADIX ):\n",
    "            buck = buckets[b]\n",
    "            for i in buck:\n",
    "                arr[a] = i\n",
    "                a += 1\n",
    " \n",
    "        # move to next digit\n",
    "        placement *= RADIX\n",
    "        \n",
    "    return arr"
   ]
  },
  {
   "cell_type": "code",
   "execution_count": 15,
   "metadata": {
    "scrolled": true
   },
   "outputs": [],
   "source": [
    "#VETOR 10M\n",
    "start12_radix_msd = time.time()\n",
    "radix_msd(vetorzao6)\n",
    "end12_radix_msd = time.time()\n",
    "\n",
    "#VETOR 5M\n",
    "start11_radix_msd = time.time()\n",
    "radix_msd(vetorzao5)\n",
    "end11_radix_msd = time.time()\n",
    "\n",
    "\n",
    "#VETOR 2M\n",
    "start10_radix_msd = time.time()\n",
    "radix_msd(vetorzao4)\n",
    "end10_radix_msd = time.time()\n",
    "\n",
    "#VETOR 1M\n",
    "start9_radix_msd = time.time()\n",
    "radix_msd(vetorzao3)\n",
    "end9_radix_msd = time.time()\n",
    "\n",
    "#VETOR 500K\n",
    "start8_radix_msd = time.time()\n",
    "radix_msd(vetorzao2)\n",
    "end8_radix_msd = time.time()\n",
    "\n",
    "#VETOR 100K\n",
    "start7_radix_msd = time.time()\n",
    "radix_msd(vetorzao1)\n",
    "end7_radix_msd = time.time()"
   ]
  },
  {
   "cell_type": "code",
   "execution_count": 16,
   "metadata": {},
   "outputs": [
    {
     "data": {
      "text/plain": [
       "[<matplotlib.lines.Line2D at 0x7f9031f23358>]"
      ]
     },
     "execution_count": 16,
     "metadata": {},
     "output_type": "execute_result"
    },
    {
     "data": {
      "image/png": "[encoded data removed]",
      "text/plain": [
       "<Figure size 432x288 with 1 Axes>"
      ]
     },
     "metadata": {
      "needs_background": "light"
     },
     "output_type": "display_data"
    }
   ],
   "source": [
    "m7 = end7_radix_msd - start7_radix_msd\n",
    "m8 = end8_radix_msd - start8_radix_msd\n",
    "m9 = end9_radix_msd - start9_radix_msd\n",
    "m10 = end10_radix_msd - start10_radix_msd\n",
    "m11 = end11_radix_msd - start11_radix_msd\n",
    "m12 = end12_radix_msd - start12_radix_msd\n",
    "\n",
    "radix_msd = [m7,m8,m9,m10,m11,m12]\n",
    "\n",
    "plt.plot(radix_msd, linestyle='-', marker='o')"
   ]
  },
  {
   "cell_type": "markdown",
   "metadata": {},
   "source": [
    "## Heap\n",
    "\n",
    "Um heap é uma estrutura de dados especializada, baseada em árvore, que é essencialmente uma árvore quase completa que satisfaz a propriedade heap: se P é um nó pai de C, então a chave (o valor) de P é maior que ou igual a (em um  MaxHeap) ou menor que ou igual a ( MinHeap ) chave de C. O nó no \"topo\" da heap (sem pais) é chamado de nó raiz.\n",
    "\n",
    "O heap é uma implementação maximamente eficiente de um tipo de dados abstrato chamado de fila de prioridade e, de fato, as filas de prioridade são geralmente chamadas de \"heaps\", independentemente de como elas podem ser implementadas. Em uma heap, o elemento de prioridade mais alta (ou mais baixa) é sempre armazenado na raiz. No entanto, uma heap não é uma estrutura classificada, ela pode ser considerada parcialmente ordenada. Uma heap é uma estrutura de dados útil quando é necessário remover repetidamente o objeto com a prioridade mais alta (ou mais baixa).\n",
    "\n",
    "### Build Heap\n",
    "\n",
    "Build heap: Constrói o heap a partir de um array desordenado, fazendo uso da operação de heapify diversas vezes para preservar os invariantes da estrutura.\n",
    "Primeiramente iteramos da metade do array ao começo, pois teremos apenas índices válidos para filho a esquerda e filho a direita, próximos a metade.\n",
    "\n",
    "### Heapify\n",
    "\n",
    "Heapify: Em síntese, o heapify é uma operação que visa manter a invariante de um dado heap. Em um max heap, por exemplo, o heapify garante que os filhos de cada nó sejam menores ou iguais ao pai.\n",
    "\n",
    "### Heap Sort\n",
    "\n",
    "Usando a lógica do build heap e do heapify o build sort, ele monta um MaxHeap usando o build heap e vai retirando a raiz, e mantendo as propriedades do heap usando o heapify. Após retirar todos os itens eles estaram ordenados."
   ]
  },
  {
   "cell_type": "code",
   "execution_count": 17,
   "metadata": {},
   "outputs": [],
   "source": [
    "def heapify(arr, n, i): \n",
    "    largest = i # Initialize largest as root \n",
    "    l = 2 * i + 1     # left = 2*i + 1 \n",
    "    r = 2 * i + 2     # right = 2*i + 2 \n",
    "  \n",
    "    # See if left child of root exists and is \n",
    "    # greater than root \n",
    "    if l < n and arr[i] < arr[l]: \n",
    "        largest = l \n",
    "  \n",
    "    # See if right child of root exists and is \n",
    "    # greater than root \n",
    "    if r < n and arr[largest] < arr[r]: \n",
    "        largest = r \n",
    "  \n",
    "    # Change root, if needed \n",
    "    if largest != i: \n",
    "        arr[i],arr[largest] = arr[largest],arr[i] # swap \n",
    "  \n",
    "        # Heapify the root. \n",
    "        heapify(arr, n, largest) \n",
    "  \n",
    " \n",
    "def heap_sort(arr): \n",
    "    n = len(arr) \n",
    "  \n",
    "    # Build a maxheap. \n",
    "    for i in range(n, -1, -1): \n",
    "        heapify(arr, n, i) \n",
    "  \n",
    "    # One by one extract elements \n",
    "    for i in range(n-1, 0, -1): \n",
    "        arr[i], arr[0] = arr[0], arr[i] # swap \n",
    "        heapify(arr, i, 0)  "
   ]
  },
  {
   "cell_type": "markdown",
   "metadata": {},
   "source": [
    "#### Chamando o Heap para vetores de tamanho 100k até 10M e calculando o tempo de execução"
   ]
  },
  {
   "cell_type": "code",
   "execution_count": 18,
   "metadata": {},
   "outputs": [],
   "source": [
    "#VETOR 10M\n",
    "start18_heap = time.time()\n",
    "heap_sort(vetorzao6)\n",
    "end18_heap = time.time()\n",
    "\n",
    "#VETOR 5M\n",
    "start17_heap = time.time()\n",
    "heap_sort(vetorzao5)\n",
    "end17_heap = time.time()\n",
    "\n",
    "#VETOR 2M\n",
    "start16_heap = time.time()\n",
    "heap_sort(vetorzao4)\n",
    "end16_heap = time.time()\n",
    "\n",
    "#VETOR 1M\n",
    "start15_heap = time.time()\n",
    "heap_sort(vetorzao3)\n",
    "end15_heap = time.time()\n",
    "\n",
    "#VETOR 500K\n",
    "start14_heap = time.time()\n",
    "heap_sort(vetorzao2)\n",
    "end14_heap = time.time()\n",
    "\n",
    "#VETOR 100K\n",
    "start13_heap = time.time()\n",
    "heap_sort(vetorzao1)\n",
    "end13_heap = time.time()"
   ]
  },
  {
   "cell_type": "markdown",
   "metadata": {},
   "source": [
    "#### Colocando os valores de tempo encontrados para vetores de tamanho 100k até 10M em um vetor"
   ]
  },
  {
   "cell_type": "code",
   "execution_count": 19,
   "metadata": {},
   "outputs": [
    {
     "data": {
      "text/plain": [
       "[<matplotlib.lines.Line2D at 0x7f9031ebd898>]"
      ]
     },
     "execution_count": 19,
     "metadata": {},
     "output_type": "execute_result"
    },
    {
     "data": {
      "image/png": "[encoded data removed]",
      "text/plain": [
       "<Figure size 432x288 with 1 Axes>"
      ]
     },
     "metadata": {
      "needs_background": "light"
     },
     "output_type": "display_data"
    }
   ],
   "source": [
    "m13 = end13_heap - start13_heap\n",
    "m14 = end14_heap - start14_heap\n",
    "m15 = end15_heap - start15_heap\n",
    "m16 = end16_heap - start16_heap\n",
    "m17 = end17_heap - start17_heap\n",
    "m18 = end18_heap - start18_heap\n",
    "\n",
    "heap = [m13,m14,m15,m16,m17,m18]\n",
    "\n",
    "plt.plot(heap, linestyle='-', marker='o')"
   ]
  },
  {
   "cell_type": "markdown",
   "metadata": {},
   "source": [
    "## Radix LSD"
   ]
  },
  {
   "cell_type": "code",
   "execution_count": 20,
   "metadata": {},
   "outputs": [],
   "source": [
    "def get_digit(n, d):\n",
    "    for i in range(d-1):\n",
    "        n //= 10\n",
    "    return n % 10\n",
    "\n",
    "def get_num_difit(n):\n",
    "    i = 0\n",
    "    while n > 0:\n",
    "        n //= 10\n",
    "        i += 1\n",
    "    return i\n",
    "\n",
    "def radix_lsd( alist ):\n",
    "    max_value = max( alist )\n",
    "    num_digits = get_num_difit(max_value)\n",
    "    for i in range(num_digits-1):\n",
    "        arr = counting_sort( alist )\n",
    "    \n",
    "    return arr"
   ]
  },
  {
   "cell_type": "code",
   "execution_count": 21,
   "metadata": {},
   "outputs": [],
   "source": [
    "#VETOR 10M\n",
    "start12_radix_lsd = time.time()\n",
    "radix_lsd(vetorzao6)\n",
    "end12_radix_lsd = time.time()\n",
    "\n",
    "#VETOR 5M\n",
    "start11_radix_lsd = time.time()\n",
    "radix_lsd(vetorzao5)\n",
    "end11_radix_lsd = time.time()\n",
    "\n",
    "\n",
    "#VETOR 2M\n",
    "start10_radix_lsd = time.time()\n",
    "radix_lsd(vetorzao4)\n",
    "end10_radix_lsd = time.time()\n",
    "\n",
    "#VETOR 1M\n",
    "start9_radix_lsd = time.time()\n",
    "radix_lsd(vetorzao3)\n",
    "end9_radix_lsd = time.time()\n",
    "\n",
    "#VETOR 500K\n",
    "start8_radix_lsd = time.time()\n",
    "radix_lsd(vetorzao2)\n",
    "end8_radix_lsd = time.time()\n",
    "\n",
    "#VETOR 100K\n",
    "start7_radix_lsd = time.time()\n",
    "radix_lsd(vetorzao1)\n",
    "end7_radix_lsd = time.time()"
   ]
  },
  {
   "cell_type": "code",
   "execution_count": 22,
   "metadata": {},
   "outputs": [
    {
     "data": {
      "text/plain": [
       "[<matplotlib.lines.Line2D at 0x7f9031e99c88>]"
      ]
     },
     "execution_count": 22,
     "metadata": {},
     "output_type": "execute_result"
    },
    {
     "data": {
      "image/png": "[encoded data removed]",
      "text/plain": [
       "<Figure size 432x288 with 1 Axes>"
      ]
     },
     "metadata": {
      "needs_background": "light"
     },
     "output_type": "display_data"
    }
   ],
   "source": [
    "m19 = end7_radix_lsd - start7_radix_lsd\n",
    "m20 = end8_radix_lsd - start8_radix_lsd\n",
    "m21 = end9_radix_lsd - start9_radix_lsd\n",
    "m22 = end10_radix_lsd - start10_radix_lsd\n",
    "m23 = end11_radix_lsd - start11_radix_lsd\n",
    "m24 = end12_radix_lsd - start12_radix_lsd\n",
    "\n",
    "radix_lsd = [m19,m20,m21,m22,m23,m24]\n",
    "\n",
    "plt.plot(radix_lsd, linestyle='-', marker='o')"
   ]
  },
  {
   "cell_type": "code",
   "execution_count": 23,
   "metadata": {},
   "outputs": [
    {
     "data": {
      "text/html": [
       "<div>\n",
       "<style scoped>\n",
       "    .dataframe tbody tr th:only-of-type {\n",
       "        vertical-align: middle;\n",
       "    }\n",
       "\n",
       "    .dataframe tbody tr th {\n",
       "        vertical-align: top;\n",
       "    }\n",
       "\n",
       "    .dataframe thead th {\n",
       "        text-align: right;\n",
       "    }\n",
       "</style>\n",
       "<table border=\"1\" class=\"dataframe\">\n",
       "  <thead>\n",
       "    <tr style=\"text-align: right;\">\n",
       "      <th></th>\n",
       "      <th>Heap</th>\n",
       "      <th>Radix MSD</th>\n",
       "      <th>Radix LSD</th>\n",
       "    </tr>\n",
       "  </thead>\n",
       "  <tbody>\n",
       "    <tr>\n",
       "      <th>0</th>\n",
       "      <td>11.616010</td>\n",
       "      <td>2.752594</td>\n",
       "      <td>6.582007</td>\n",
       "    </tr>\n",
       "    <tr>\n",
       "      <th>1</th>\n",
       "      <td>23.432747</td>\n",
       "      <td>5.445422</td>\n",
       "      <td>8.378149</td>\n",
       "    </tr>\n",
       "    <tr>\n",
       "      <th>2</th>\n",
       "      <td>26.712535</td>\n",
       "      <td>6.879785</td>\n",
       "      <td>9.380621</td>\n",
       "    </tr>\n",
       "    <tr>\n",
       "      <th>3</th>\n",
       "      <td>35.763723</td>\n",
       "      <td>9.207474</td>\n",
       "      <td>11.270539</td>\n",
       "    </tr>\n",
       "    <tr>\n",
       "      <th>4</th>\n",
       "      <td>43.907353</td>\n",
       "      <td>11.270601</td>\n",
       "      <td>12.203037</td>\n",
       "    </tr>\n",
       "    <tr>\n",
       "      <th>5</th>\n",
       "      <td>54.821195</td>\n",
       "      <td>13.016013</td>\n",
       "      <td>13.343349</td>\n",
       "    </tr>\n",
       "  </tbody>\n",
       "</table>\n",
       "</div>"
      ],
      "text/plain": [
       "        Heap  Radix MSD  Radix LSD\n",
       "0  11.616010   2.752594   6.582007\n",
       "1  23.432747   5.445422   8.378149\n",
       "2  26.712535   6.879785   9.380621\n",
       "3  35.763723   9.207474  11.270539\n",
       "4  43.907353  11.270601  12.203037\n",
       "5  54.821195  13.016013  13.343349"
      ]
     },
     "execution_count": 23,
     "metadata": {},
     "output_type": "execute_result"
    }
   ],
   "source": [
    "d = {'Heap':heap,'Radix MSD': radix_msd,'Radix LSD': radix_lsd}\n",
    "d = pd.DataFrame(d)\n",
    "d"
   ]
  },
  {
   "cell_type": "code",
   "execution_count": 24,
   "metadata": {},
   "outputs": [
    {
     "data": {
      "text/plain": [
       "[<matplotlib.lines.Line2D at 0x7f9031dc04e0>]"
      ]
     },
     "execution_count": 24,
     "metadata": {},
     "output_type": "execute_result"
    },
    {
     "data": {
      "image/png": "[encoded data removed]",
      "text/plain": [
       "<Figure size 432x288 with 1 Axes>"
      ]
     },
     "metadata": {
      "needs_background": "light"
     },
     "output_type": "display_data"
    }
   ],
   "source": [
    "plt.plot(heap, linestyle='-', marker='o',color='black')\n",
    "plt.plot(radix_lsd, linestyle='-', marker='o',color='purple')\n",
    "plt.plot(radix_msd, linestyle='-', marker='o',color='magenta')"
   ]
  },
  {
   "cell_type": "code",
   "execution_count": 25,
   "metadata": {},
   "outputs": [
    {
     "data": {
      "text/html": [
       "<div>\n",
       "<style scoped>\n",
       "    .dataframe tbody tr th:only-of-type {\n",
       "        vertical-align: middle;\n",
       "    }\n",
       "\n",
       "    .dataframe tbody tr th {\n",
       "        vertical-align: top;\n",
       "    }\n",
       "\n",
       "    .dataframe thead th {\n",
       "        text-align: right;\n",
       "    }\n",
       "</style>\n",
       "<table border=\"1\" class=\"dataframe\">\n",
       "  <thead>\n",
       "    <tr style=\"text-align: right;\">\n",
       "      <th></th>\n",
       "      <th>Quick</th>\n",
       "      <th>Shell</th>\n",
       "    </tr>\n",
       "  </thead>\n",
       "  <tbody>\n",
       "    <tr>\n",
       "      <th>0</th>\n",
       "      <td>3.790094</td>\n",
       "      <td>3.189031</td>\n",
       "    </tr>\n",
       "    <tr>\n",
       "      <th>1</th>\n",
       "      <td>8.506753</td>\n",
       "      <td>7.034714</td>\n",
       "    </tr>\n",
       "    <tr>\n",
       "      <th>2</th>\n",
       "      <td>10.923028</td>\n",
       "      <td>8.790173</td>\n",
       "    </tr>\n",
       "    <tr>\n",
       "      <th>3</th>\n",
       "      <td>16.106898</td>\n",
       "      <td>11.550778</td>\n",
       "    </tr>\n",
       "    <tr>\n",
       "      <th>4</th>\n",
       "      <td>18.333915</td>\n",
       "      <td>13.955194</td>\n",
       "    </tr>\n",
       "    <tr>\n",
       "      <th>5</th>\n",
       "      <td>21.964472</td>\n",
       "      <td>16.328326</td>\n",
       "    </tr>\n",
       "  </tbody>\n",
       "</table>\n",
       "</div>"
      ],
      "text/plain": [
       "       Quick      Shell\n",
       "0   3.790094   3.189031\n",
       "1   8.506753   7.034714\n",
       "2  10.923028   8.790173\n",
       "3  16.106898  11.550778\n",
       "4  18.333915  13.955194\n",
       "5  21.964472  16.328326"
      ]
     },
     "execution_count": 25,
     "metadata": {},
     "output_type": "execute_result"
    }
   ],
   "source": [
    "d = {'Quick':quick,'Shell':shell}\n",
    "d = pd.DataFrame(d)\n",
    "d"
   ]
  },
  {
   "cell_type": "code",
   "execution_count": 26,
   "metadata": {},
   "outputs": [
    {
     "data": {
      "text/plain": [
       "[<matplotlib.lines.Line2D at 0x7f9031deae48>]"
      ]
     },
     "execution_count": 26,
     "metadata": {},
     "output_type": "execute_result"
    },
    {
     "data": {
      "image/png": "[encoded data removed]",
      "text/plain": [
       "<Figure size 432x288 with 1 Axes>"
      ]
     },
     "metadata": {
      "needs_background": "light"
     },
     "output_type": "display_data"
    }
   ],
   "source": [
    "plt.plot(quick, linestyle='-', marker='o', color='blue')\n",
    "plt.plot(shell, linestyle='-', marker='o',color='red')"
   ]
  },
  {
   "cell_type": "code",
   "execution_count": 27,
   "metadata": {},
   "outputs": [
    {
     "data": {
      "text/html": [
       "<div>\n",
       "<style scoped>\n",
       "    .dataframe tbody tr th:only-of-type {\n",
       "        vertical-align: middle;\n",
       "    }\n",
       "\n",
       "    .dataframe tbody tr th {\n",
       "        vertical-align: top;\n",
       "    }\n",
       "\n",
       "    .dataframe thead th {\n",
       "        text-align: right;\n",
       "    }\n",
       "</style>\n",
       "<table border=\"1\" class=\"dataframe\">\n",
       "  <thead>\n",
       "    <tr style=\"text-align: right;\">\n",
       "      <th></th>\n",
       "      <th>Counting Ordenado</th>\n",
       "      <th>Counting Desordenado</th>\n",
       "    </tr>\n",
       "  </thead>\n",
       "  <tbody>\n",
       "    <tr>\n",
       "      <th>0</th>\n",
       "      <td>0.091491</td>\n",
       "      <td>1.083398</td>\n",
       "    </tr>\n",
       "    <tr>\n",
       "      <th>1</th>\n",
       "      <td>0.151917</td>\n",
       "      <td>1.306993</td>\n",
       "    </tr>\n",
       "    <tr>\n",
       "      <th>2</th>\n",
       "      <td>0.232778</td>\n",
       "      <td>1.465430</td>\n",
       "    </tr>\n",
       "    <tr>\n",
       "      <th>3</th>\n",
       "      <td>0.344600</td>\n",
       "      <td>1.767786</td>\n",
       "    </tr>\n",
       "    <tr>\n",
       "      <th>4</th>\n",
       "      <td>0.399131</td>\n",
       "      <td>1.940523</td>\n",
       "    </tr>\n",
       "    <tr>\n",
       "      <th>5</th>\n",
       "      <td>0.493362</td>\n",
       "      <td>2.117072</td>\n",
       "    </tr>\n",
       "  </tbody>\n",
       "</table>\n",
       "</div>"
      ],
      "text/plain": [
       "   Counting Ordenado  Counting Desordenado\n",
       "0           0.091491              1.083398\n",
       "1           0.151917              1.306993\n",
       "2           0.232778              1.465430\n",
       "3           0.344600              1.767786\n",
       "4           0.399131              1.940523\n",
       "5           0.493362              2.117072"
      ]
     },
     "execution_count": 27,
     "metadata": {},
     "output_type": "execute_result"
    }
   ],
   "source": [
    "do = {'Counting Ordenado': counting_ord,'Counting Desordenado': counting}\n",
    "do = pd.DataFrame(do)\n",
    "do"
   ]
  },
  {
   "cell_type": "code",
   "execution_count": 28,
   "metadata": {},
   "outputs": [
    {
     "data": {
      "text/plain": [
       "[<matplotlib.lines.Line2D at 0x7f9031d4cbe0>]"
      ]
     },
     "execution_count": 28,
     "metadata": {},
     "output_type": "execute_result"
    },
    {
     "data": {
      "image/png": "[encoded data removed]",
      "text/plain": [
       "<Figure size 432x288 with 1 Axes>"
      ]
     },
     "metadata": {
      "needs_background": "light"
     },
     "output_type": "display_data"
    }
   ],
   "source": [
    "plt.plot(counting, linestyle='-', marker='o',color='green')\n",
    "plt.plot(counting_ord, linestyle='-', marker='o',color='yellow')"
   ]
  },
  {
   "cell_type": "code",
   "execution_count": 29,
   "metadata": {},
   "outputs": [
    {
     "data": {
      "text/html": [
       "<div>\n",
       "<style scoped>\n",
       "    .dataframe tbody tr th:only-of-type {\n",
       "        vertical-align: middle;\n",
       "    }\n",
       "\n",
       "    .dataframe tbody tr th {\n",
       "        vertical-align: top;\n",
       "    }\n",
       "\n",
       "    .dataframe thead th {\n",
       "        text-align: right;\n",
       "    }\n",
       "</style>\n",
       "<table border=\"1\" class=\"dataframe\">\n",
       "  <thead>\n",
       "    <tr style=\"text-align: right;\">\n",
       "      <th></th>\n",
       "      <th>Heap</th>\n",
       "      <th>Radix MSD</th>\n",
       "      <th>Radix LSD</th>\n",
       "      <th>Quick</th>\n",
       "      <th>Shell</th>\n",
       "      <th>Counting Ordenado</th>\n",
       "      <th>Counting Desordenado</th>\n",
       "    </tr>\n",
       "  </thead>\n",
       "  <tbody>\n",
       "    <tr>\n",
       "      <th>0</th>\n",
       "      <td>11.616010</td>\n",
       "      <td>2.752594</td>\n",
       "      <td>6.582007</td>\n",
       "      <td>3.790094</td>\n",
       "      <td>3.189031</td>\n",
       "      <td>0.091491</td>\n",
       "      <td>1.083398</td>\n",
       "    </tr>\n",
       "    <tr>\n",
       "      <th>1</th>\n",
       "      <td>23.432747</td>\n",
       "      <td>5.445422</td>\n",
       "      <td>8.378149</td>\n",
       "      <td>8.506753</td>\n",
       "      <td>7.034714</td>\n",
       "      <td>0.151917</td>\n",
       "      <td>1.306993</td>\n",
       "    </tr>\n",
       "    <tr>\n",
       "      <th>2</th>\n",
       "      <td>26.712535</td>\n",
       "      <td>6.879785</td>\n",
       "      <td>9.380621</td>\n",
       "      <td>10.923028</td>\n",
       "      <td>8.790173</td>\n",
       "      <td>0.232778</td>\n",
       "      <td>1.465430</td>\n",
       "    </tr>\n",
       "    <tr>\n",
       "      <th>3</th>\n",
       "      <td>35.763723</td>\n",
       "      <td>9.207474</td>\n",
       "      <td>11.270539</td>\n",
       "      <td>16.106898</td>\n",
       "      <td>11.550778</td>\n",
       "      <td>0.344600</td>\n",
       "      <td>1.767786</td>\n",
       "    </tr>\n",
       "    <tr>\n",
       "      <th>4</th>\n",
       "      <td>43.907353</td>\n",
       "      <td>11.270601</td>\n",
       "      <td>12.203037</td>\n",
       "      <td>18.333915</td>\n",
       "      <td>13.955194</td>\n",
       "      <td>0.399131</td>\n",
       "      <td>1.940523</td>\n",
       "    </tr>\n",
       "    <tr>\n",
       "      <th>5</th>\n",
       "      <td>54.821195</td>\n",
       "      <td>13.016013</td>\n",
       "      <td>13.343349</td>\n",
       "      <td>21.964472</td>\n",
       "      <td>16.328326</td>\n",
       "      <td>0.493362</td>\n",
       "      <td>2.117072</td>\n",
       "    </tr>\n",
       "  </tbody>\n",
       "</table>\n",
       "</div>"
      ],
      "text/plain": [
       "        Heap  Radix MSD  Radix LSD      Quick      Shell  Counting Ordenado  \\\n",
       "0  11.616010   2.752594   6.582007   3.790094   3.189031           0.091491   \n",
       "1  23.432747   5.445422   8.378149   8.506753   7.034714           0.151917   \n",
       "2  26.712535   6.879785   9.380621  10.923028   8.790173           0.232778   \n",
       "3  35.763723   9.207474  11.270539  16.106898  11.550778           0.344600   \n",
       "4  43.907353  11.270601  12.203037  18.333915  13.955194           0.399131   \n",
       "5  54.821195  13.016013  13.343349  21.964472  16.328326           0.493362   \n",
       "\n",
       "   Counting Desordenado  \n",
       "0              1.083398  \n",
       "1              1.306993  \n",
       "2              1.465430  \n",
       "3              1.767786  \n",
       "4              1.940523  \n",
       "5              2.117072  "
      ]
     },
     "execution_count": 29,
     "metadata": {},
     "output_type": "execute_result"
    }
   ],
   "source": [
    "d = {'Heap':heap,'Radix MSD': radix_msd,'Radix LSD': radix_lsd,'Quick':quick,'Shell':shell,'Counting Ordenado': counting_ord,'Counting Desordenado': counting}\n",
    "d = pd.DataFrame(d)\n",
    "d"
   ]
  },
  {
   "cell_type": "code",
   "execution_count": 30,
   "metadata": {},
   "outputs": [
    {
     "data": {
      "text/plain": [
       "<Figure size 1440x720 with 0 Axes>"
      ]
     },
     "execution_count": 30,
     "metadata": {},
     "output_type": "execute_result"
    },
    {
     "data": {
      "image/png": "[encoded data removed]",
      "text/plain": [
       "<Figure size 432x288 with 1 Axes>"
      ]
     },
     "metadata": {
      "needs_background": "light"
     },
     "output_type": "display_data"
    },
    {
     "data": {
      "text/plain": [
       "<Figure size 1440x720 with 0 Axes>"
      ]
     },
     "metadata": {},
     "output_type": "display_data"
    }
   ],
   "source": [
    "plt.plot(heap, linestyle='-', marker='o',color='black')\n",
    "plt.plot(radix_lsd, linestyle='-', marker='o',color='purple')\n",
    "plt.plot(radix_msd, linestyle='-', marker='o',color='magenta')\n",
    "plt.plot(counting, linestyle='-', marker='o',color='green')\n",
    "plt.plot(counting_ord, linestyle='-', marker='o',color='yellow')\n",
    "plt.plot(quick, linestyle='-', marker='o', color='blue')\n",
    "plt.plot(shell, linestyle='-', marker='o',color='red')\n",
    "plt.figure(figsize=(20,10))\n"
   ]
  }
 ],
 "metadata": {
  "kernelspec": {
   "display_name": "Python 3",
   "language": "python",
   "name": "python3"
  },
  "language_info": {
   "codemirror_mode": {
    "name": "ipython",
    "version": 3
   },
   "file_extension": ".py",
   "mimetype": "text/x-python",
   "name": "python",
   "nbconvert_exporter": "python",
   "pygments_lexer": "ipython3",
   "version": "3.7.3"
  }
 },
 "nbformat": 4,
 "nbformat_minor": 2
}

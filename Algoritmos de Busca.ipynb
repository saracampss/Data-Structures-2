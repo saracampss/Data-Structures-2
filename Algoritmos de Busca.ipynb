{
 "cells": [
  {
   "cell_type": "markdown",
   "metadata": {},
   "source": [
    "# Algoritmos de Busca "
   ]
  },
  {
   "cell_type": "markdown",
   "metadata": {},
   "source": [
    "### Importando Bibliotecas"
   ]
  },
  {
   "cell_type": "code",
   "execution_count": 1,
   "metadata": {},
   "outputs": [],
   "source": [
    "import time \n",
    "import math\n",
    "import matplotlib.pyplot as plt\n",
    "import numpy as np\n",
    "import pandas as pd"
   ]
  },
  {
   "cell_type": "markdown",
   "metadata": {},
   "source": [
    "## Busca sequêncial \n",
    "\n",
    "Percorre a estrutura de dados inteira item por item, podendo a estrutura ser uma lista encadeada, um vetor ou qualquer tabela organizada\n",
    "    \n",
    "A lógica tem como base a comparação entre a chave primária que se busca e a presente no indíce da estrutura. Pro exemplo é buscada a chave 48 em um vetor, a busca começa no primeiro item do vetor, comparando a chave do item e a buscada, caso não sejam iguais é passado para o próximo item do vetor e feita a comparação e assim por diante até achar uma chave igual a procurada e o índice onde a chave está guardada é retornado. Quando a chave procurada não existe na estrutura onde está sendo procurada deve-se retornar alguma mensagem de erro ou um valor padrão para essa situação.\n",
    "    \n",
    "* Complexidade: O(n)\n",
    "* Número média de comparações: (n + 1) / 2"
   ]
  },
  {
   "cell_type": "markdown",
   "metadata": {},
   "source": [
    "#### Algoritmo Busca Sequencial com while"
   ]
  },
  {
   "cell_type": "code",
   "execution_count": 2,
   "metadata": {},
   "outputs": [],
   "source": [
    "def seq_search_while(vector, item) -> (bool, int):\n",
    "    index = 0\n",
    "    found = False\n",
    "    \n",
    "    while index < len(vector) and not found:\n",
    "        if vector[index] == item:\n",
    "            found = True\n",
    "        else:\n",
    "            index += 1\n",
    "        \n",
    "    return found, index"
   ]
  },
  {
   "cell_type": "markdown",
   "metadata": {},
   "source": [
    "#### Algoritmo Busca Sequencial com for"
   ]
  },
  {
   "cell_type": "code",
   "execution_count": 3,
   "metadata": {},
   "outputs": [],
   "source": [
    "def seq_search_for(vector, item) -> (bool, int):\n",
    "    found = False\n",
    "    \n",
    "    for index in range(0, len(vector)):\n",
    "        if vector[index] == item:\n",
    "            found = True\n",
    "            return found, index\n",
    "    \n",
    "    if found == False:\n",
    "        return found, \"Not found in the range\"  "
   ]
  },
  {
   "cell_type": "markdown",
   "metadata": {},
   "source": [
    "##  Busca Binária\n",
    "\n",
    "Usada em estruturas de dados ondem os dados estejam ordenados. Por exemplo, se as chaves primárias estiverem organizadas de forma sequencial em um vetor, podemos achar uma chave de forma mais eficiente com a busca binária do que com a sequencial, pois não é necessário passar por todos os dados do vetor. A lógica da busca binária é usar da ordem da estrutura para poder diminuir o número de comparações feitas até achar o valor procurado ou descartar sua existência na estrutura. Isso é feito da seguinte forma:\n",
    "    \n",
    "1. Acha-se o valor intermediario da estrutura ( mediana )\n",
    "2. Compara-se o valor procurado com a mediana\n",
    "    * Se o valor procurado é igual a mediana retorna a mediana\n",
    "    * Caso o valor procurado seja menor que a mediana atualiza-se o valor maximo (fim) da estrutura para mediana - 1 e os passos 1 e 2 são executados de novo\n",
    "    * Caso o valor procurado seja maior que a mediana atualiza-se o valor mínimo (início) da estrutura para mediana + 1 e os passos 1 e 2 são executador de novo\n",
    "        \n",
    "Perceba que o algorítimo é recursivo por natureza, ao chegar nos condicionais do passo 2, atualiza-se o que é necessário e o passos 1 e 2 são reexecutados \n",
    "    \n",
    "* Complexidade: O(log n)\n",
    "    \n",
    "### Vantagens:\n",
    "  * Eficiência de busca\n",
    "  * Implementação simples\n",
    "    \n",
    "### Desvantagens:\n",
    "  * Necessidade que os índices da estrútura estejam organizados de forma ordenada"
   ]
  },
  {
   "cell_type": "markdown",
   "metadata": {},
   "source": [
    "#### Algoritmo Busca Binária Recursiva"
   ]
  },
  {
   "cell_type": "code",
   "execution_count": 4,
   "metadata": {},
   "outputs": [],
   "source": [
    "def bin_search(vector, item, begin, end) -> (bool, int):\n",
    "    found = False\n",
    "    mid = begin + (end - begin) // 2\n",
    "    \n",
    "    if item <= vector[end] and item >= vector[begin]:\n",
    "        if vector[mid] == item:\n",
    "            found = True\n",
    "            return found, mid\n",
    "    \n",
    "        elif item > vector[mid]:\n",
    "            return bin_search(vector, item, mid+1, end)\n",
    "    \n",
    "        else:\n",
    "            return bin_search(vector, item, begin, mid-1)\n",
    "    else:\n",
    "        return found, \"Item not in the range of the struct\""
   ]
  },
  {
   "cell_type": "markdown",
   "metadata": {},
   "source": [
    "## Busca por Interpolação\n",
    "\n",
    " Usada em conjuntos de dados os quais os dados são distribuidos de forma uniforme, onde esse dados são contínuos portanto a densidade de dados é contínua. Como os dados estão distribuidos de forma uniforme é mais fácil fazer uma estimativa de onde se encontra o índice procurado está portanto assim como a busca binária ela tambem é mais efetiva que a sequêncial, sendo mais efetiva até que a binária por conta da densidade contínua dos dados.\n",
    "A estimativa da posição de um item é dada por:\n",
    "        \n",
    "    meio = inicio + ( fim - inicio ) * ( (item - vector[inicio]) / (vector[fim] - vector[inicio]) )\n",
    "                \n",
    "Caso o item procurado nao seja o encontrado os indices de inicio e fim serão atualizados assim como na busca binária, portanto podemos ver que o algoritmo de busca interpolada tambem é recursivo.\n",
    "    \n",
    "* Complexidade: O(log(log(n))\n",
    "    \n",
    "### Vantagens:\n",
    "        \n",
    "* Alta taxa de acerto em duas ou menos iterações\n",
    "        \n",
    "### Desvantagens:\n",
    "    \n",
    "* Se os dados estão distribuidos de forma uniforme a taxa de acerto cai drasticamente chegando ao nível de de eficiencia de um algoritmo de busca sequêncial "
   ]
  },
  {
   "cell_type": "markdown",
   "metadata": {},
   "source": [
    "#### Algoritmo Busca Interpolada"
   ]
  },
  {
   "cell_type": "code",
   "execution_count": 5,
   "metadata": {},
   "outputs": [],
   "source": [
    "def inter_search(lys, val):  \n",
    "    low = 0\n",
    "    high = (len(lys) - 1)\n",
    "    while low <= high and val >= lys[low] and val <= lys[high]:\n",
    "        index = low + int(((float(high - low) / ( lys[high] - lys[low])) * ( val - lys[low])))\n",
    "        if lys[index] == val:\n",
    "            return index\n",
    "        if lys[index] < val:\n",
    "            low = index + 1;\n",
    "        else:\n",
    "            high = index - 1;\n",
    "    return -1"
   ]
  },
  {
   "cell_type": "markdown",
   "metadata": {},
   "source": [
    "## Comparando algorítmos de busca\n",
    "\n",
    "Para fazer a comparação entre os algorítmos de busca, iremos declarar vetores de tamanhos diferentes e usaremos os 4 algorítmos para acharmos uma mesma chave, o tempo de execução será averiguado e comparado.\n",
    "\n",
    "### Declaração dos vetores"
   ]
  },
  {
   "cell_type": "code",
   "execution_count": 6,
   "metadata": {},
   "outputs": [],
   "source": [
    "# TAMANHO VETORES 20K - 1M\n",
    "\n",
    "vector1 = list(range(0,20000))\n",
    "vector2 = list(range(0,40000))\n",
    "vector3 = list(range(0,60000))\n",
    "vector4 = list(range(0,80000))\n",
    "vector5 = list(range(0,100000))\n",
    "vector6 = list(range(0,110000))"
   ]
  },
  {
   "cell_type": "markdown",
   "metadata": {},
   "source": [
    "#### Chamando Busca Squencial com while"
   ]
  },
  {
   "cell_type": "code",
   "execution_count": 7,
   "metadata": {},
   "outputs": [],
   "source": [
    "#VETOR 20K\n",
    "start1_seq_while = time.time()\n",
    "seq_search_while(vector1,7415)\n",
    "end1_seq_while = time.time()\n",
    "\n",
    "#VETOR 40K\n",
    "start2_seq_while = time.time()\n",
    "seq_search_while(vector2,10965)\n",
    "end2_seq_while = time.time()\n",
    "\n",
    "#VETOR 60K\n",
    "start3_seq_while = time.time()\n",
    "seq_search_while(vector3,51036)\n",
    "end3_seq_while = time.time()\n",
    "\n",
    "#VETOR 80K\n",
    "start4_seq_while = time.time()\n",
    "seq_search_while(vector4, 56274)\n",
    "end4_seq_while = time.time()\n",
    "\n",
    "#VETOR 100K\n",
    "start5_seq_while = time.time()\n",
    "seq_search_while(vector5, 76249)\n",
    "end5_seq_while = time.time()\n",
    "\n",
    "#VETOR 110K\n",
    "start6_seq_while = time.time()\n",
    "seq_search_while(vector6,63669)\n",
    "end6_seq_while = time.time()"
   ]
  },
  {
   "cell_type": "markdown",
   "metadata": {},
   "source": [
    "#### Organizando os tempos em um vetor e gerando gráfico"
   ]
  },
  {
   "cell_type": "code",
   "execution_count": 8,
   "metadata": {},
   "outputs": [
    {
     "data": {
      "text/plain": [
       "[<matplotlib.lines.Line2D at 0x7f8bfa3e6358>]"
      ]
     },
     "execution_count": 8,
     "metadata": {},
     "output_type": "execute_result"
    },
    {
     "data": {
      "image/png": "[encoded data removed]",
      "text/plain": [
       "<Figure size 432x288 with 1 Axes>"
      ]
     },
     "metadata": {
      "needs_background": "light"
     },
     "output_type": "display_data"
    }
   ],
   "source": [
    "o1 = end1_seq_while - start1_seq_while\n",
    "o2 = end2_seq_while - start2_seq_while\n",
    "o3 = end3_seq_while - start3_seq_while\n",
    "o4 = end4_seq_while - start4_seq_while\n",
    "o5 = end5_seq_while - start5_seq_while\n",
    "o6 = end6_seq_while - start6_seq_while\n",
    "\n",
    "seq_while = [o1,o2,o3,o4,o5,o6]\n",
    "\n",
    "plt.plot(seq_while, linestyle='-', marker='o')"
   ]
  },
  {
   "cell_type": "markdown",
   "metadata": {},
   "source": [
    "#### Chamando Busca Sequencial com For"
   ]
  },
  {
   "cell_type": "code",
   "execution_count": 9,
   "metadata": {},
   "outputs": [],
   "source": [
    "#VETOR 20K\n",
    "start1_seq_for = time.time()\n",
    "seq_search_for(vector1,7415)\n",
    "end1_seq_for = time.time()\n",
    "\n",
    "#VETOR 40K\n",
    "start2_seq_for = time.time()\n",
    "seq_search_for(vector2,10965)\n",
    "end2_seq_for = time.time()\n",
    "\n",
    "#VETOR 60K\n",
    "start3_seq_for = time.time()\n",
    "seq_search_for(vector3,51036)\n",
    "end3_seq_for = time.time()\n",
    "\n",
    "#VETOR 80K\n",
    "start4_seq_for = time.time()\n",
    "seq_search_for(vector4, 56274)\n",
    "end4_seq_for = time.time()\n",
    "\n",
    "#VETOR 100K\n",
    "start5_seq_for = time.time()\n",
    "seq_search_for(vector5, 76249)\n",
    "end5_seq_for = time.time()\n",
    "\n",
    "#VETOR 1M\n",
    "start6_seq_for = time.time()\n",
    "seq_search_for(vector6,63669)\n",
    "end6_seq_for = time.time()"
   ]
  },
  {
   "cell_type": "markdown",
   "metadata": {},
   "source": [
    "#### Organizando os tempos em um vetor e gerando gráfico"
   ]
  },
  {
   "cell_type": "code",
   "execution_count": 10,
   "metadata": {
    "scrolled": true
   },
   "outputs": [
    {
     "data": {
      "text/plain": [
       "[<matplotlib.lines.Line2D at 0x7f8bfa384d30>]"
      ]
     },
     "execution_count": 10,
     "metadata": {},
     "output_type": "execute_result"
    },
    {
     "data": {
      "image/png": "[encoded data removed]",
      "text/plain": [
       "<Figure size 432x288 with 1 Axes>"
      ]
     },
     "metadata": {
      "needs_background": "light"
     },
     "output_type": "display_data"
    }
   ],
   "source": [
    "l1 = end1_seq_for - start1_seq_for\n",
    "l2 = end2_seq_for - start2_seq_for\n",
    "l3 = end3_seq_for - start3_seq_for\n",
    "l4 = end4_seq_for - start4_seq_for\n",
    "l5 = end5_seq_for - start5_seq_for\n",
    "l6 = end6_seq_for - start6_seq_for\n",
    "\n",
    "seq_for = [l1,l2,l3,l4,l5,l6]\n",
    "\n",
    "plt.plot(seq_for, linestyle='-', marker='o')"
   ]
  },
  {
   "cell_type": "markdown",
   "metadata": {},
   "source": [
    "#### Chamando Busca Binária "
   ]
  },
  {
   "cell_type": "code",
   "execution_count": 11,
   "metadata": {},
   "outputs": [],
   "source": [
    "#VETOR 20K\n",
    "start1_bin = time.time()\n",
    "bin_search(vector1,7415, 0, 20000-1)\n",
    "end1_bin = time.time()\n",
    "\n",
    "#VETOR 40K\n",
    "start2_bin = time.time()\n",
    "bin_search(vector2,10965, 0, 40000-1)\n",
    "end2_bin = time.time()\n",
    "\n",
    "#VETOR 60K\n",
    "start3_bin = time.time()\n",
    "bin_search(vector3,51036, 0, 60000-1)\n",
    "end3_bin = time.time()\n",
    "\n",
    "#VETOR 80K\n",
    "start4_bin = time.time()\n",
    "bin_search(vector4, 56274, 0, 80000-1)\n",
    "end4_bin = time.time()\n",
    "\n",
    "#VETOR 100K\n",
    "start5_bin = time.time()\n",
    "bin_search(vector5, 76249, 0, 100000-1)\n",
    "end5_bin = time.time()\n",
    "\n",
    "#VETOR 110K\n",
    "start6_bin = time.time()\n",
    "bin_search(vector6,63669, 0, 110000-1)\n",
    "end6_bin = time.time()"
   ]
  },
  {
   "cell_type": "markdown",
   "metadata": {},
   "source": [
    "#### Organizando os tempos em um vetor e gerando gráfico"
   ]
  },
  {
   "cell_type": "code",
   "execution_count": 12,
   "metadata": {
    "scrolled": true
   },
   "outputs": [
    {
     "data": {
      "text/plain": [
       "[<matplotlib.lines.Line2D at 0x7f8bfa2f7e80>]"
      ]
     },
     "execution_count": 12,
     "metadata": {},
     "output_type": "execute_result"
    },
    {
     "data": {
      "image/png": "[encoded data removed]",
      "text/plain": [
       "<Figure size 432x288 with 1 Axes>"
      ]
     },
     "metadata": {
      "needs_background": "light"
     },
     "output_type": "display_data"
    }
   ],
   "source": [
    "m1 = end1_bin - start1_bin\n",
    "m2 = end2_bin - start2_bin\n",
    "m3 = end3_bin - start3_bin\n",
    "m4 = end4_bin - start4_bin\n",
    "m5 = end5_bin - start5_bin\n",
    "m6 = end6_bin - start6_bin\n",
    "\n",
    "bin_vector = [m1,m2,m3,m4,m5,m6]\n",
    "\n",
    "plt.plot(bin_vector, linestyle='-', marker='o')"
   ]
  },
  {
   "cell_type": "markdown",
   "metadata": {},
   "source": [
    "#### Chamando Busca Interpolada"
   ]
  },
  {
   "cell_type": "code",
   "execution_count": 13,
   "metadata": {},
   "outputs": [],
   "source": [
    "#VETOR 20K\n",
    "start1_inter = time.time()\n",
    "inter_search(vector1,7415)\n",
    "end1_inter = time.time()\n",
    "\n",
    "#VETOR 40K\n",
    "start2_inter = time.time()\n",
    "inter_search(vector2,10965)\n",
    "end2_inter = time.time()\n",
    "\n",
    "#VETOR 60K\n",
    "start3_inter = time.time()\n",
    "inter_search(vector3,51036)\n",
    "end3_inter = time.time()\n",
    "\n",
    "#VETOR 80K\n",
    "start4_inter = time.time()\n",
    "inter_search(vector4, 56274)\n",
    "end4_inter = time.time()\n",
    "\n",
    "#VETOR 100K\n",
    "start5_inter = time.time()\n",
    "inter_search(vector5, 76249)\n",
    "end5_inter = time.time()\n",
    "\n",
    "#VETOR 110K\n",
    "start6_inter = time.time()\n",
    "inter_search(vector6,63669)\n",
    "end6_inter = time.time()"
   ]
  },
  {
   "cell_type": "markdown",
   "metadata": {},
   "source": [
    "#### Organizando os tempos em um vetor e gerando gráfico"
   ]
  },
  {
   "cell_type": "code",
   "execution_count": 14,
   "metadata": {},
   "outputs": [
    {
     "data": {
      "text/plain": [
       "[<matplotlib.lines.Line2D at 0x7f8bfa2dacf8>]"
      ]
     },
     "execution_count": 14,
     "metadata": {},
     "output_type": "execute_result"
    },
    {
     "data": {
      "image/png": "[encoded data removed]",
      "text/plain": [
       "<Figure size 432x288 with 1 Axes>"
      ]
     },
     "metadata": {
      "needs_background": "light"
     },
     "output_type": "display_data"
    }
   ],
   "source": [
    "k1 = end1_inter - start1_inter\n",
    "k2 = end2_inter - start2_inter\n",
    "k3 = end3_inter - start3_inter\n",
    "k4 = end4_inter - start4_inter\n",
    "k5 = end5_inter - start5_inter\n",
    "k6 = end6_inter - start6_inter\n",
    "\n",
    "inter_vector = [k1,k2,k3,k4,k5,k6]\n",
    "\n",
    "plt.plot(inter_vector, linestyle='-', marker='o')"
   ]
  },
  {
   "cell_type": "markdown",
   "metadata": {},
   "source": [
    "### Funções para achar porcentagem"
   ]
  },
  {
   "cell_type": "code",
   "execution_count": 15,
   "metadata": {},
   "outputs": [],
   "source": [
    "def faster(vec1, vec2):\n",
    "    output = []\n",
    "    for i in range(0, len(vec1)):\n",
    "        a = vec2[i] / vec1[i]\n",
    "        output.append(a)\n",
    "    \n",
    "    return output"
   ]
  },
  {
   "cell_type": "code",
   "execution_count": 16,
   "metadata": {},
   "outputs": [],
   "source": [
    "def transform_to_porcent(vector):\n",
    "    output = []\n",
    "    for i in range(0, len(vector)):\n",
    "        a = 1 - vector[i]\n",
    "        output.append(a)\n",
    "        \n",
    "    return output"
   ]
  },
  {
   "cell_type": "markdown",
   "metadata": {},
   "source": [
    "### Chamando funções de procentagem"
   ]
  },
  {
   "cell_type": "code",
   "execution_count": 17,
   "metadata": {},
   "outputs": [],
   "source": [
    "comp1 = faster(seq_while, seq_for)\n",
    "comp2 = faster(bin_vector, inter_vector)\n",
    "comp3 = faster(seq_for, bin_vector)\n",
    "\n",
    "rapidez1 = transform_to_porcent(comp1)\n",
    "rapidez2 = transform_to_porcent(comp2)\n",
    "rapidez3 = transform_to_porcent(comp3)"
   ]
  },
  {
   "cell_type": "markdown",
   "metadata": {},
   "source": [
    "### Tabela geral dos tempos"
   ]
  },
  {
   "cell_type": "code",
   "execution_count": 18,
   "metadata": {},
   "outputs": [
    {
     "data": {
      "text/html": [
       "<div>\n",
       "<style scoped>\n",
       "    .dataframe tbody tr th:only-of-type {\n",
       "        vertical-align: middle;\n",
       "    }\n",
       "\n",
       "    .dataframe tbody tr th {\n",
       "        vertical-align: top;\n",
       "    }\n",
       "\n",
       "    .dataframe thead th {\n",
       "        text-align: right;\n",
       "    }\n",
       "</style>\n",
       "<table border=\"1\" class=\"dataframe\">\n",
       "  <thead>\n",
       "    <tr style=\"text-align: right;\">\n",
       "      <th></th>\n",
       "      <th>Sequencial - while</th>\n",
       "      <th>Sequencial - For</th>\n",
       "      <th>Busca Binária</th>\n",
       "      <th>Busca Interpolada</th>\n",
       "    </tr>\n",
       "  </thead>\n",
       "  <tbody>\n",
       "    <tr>\n",
       "      <th>0</th>\n",
       "      <td>0.002334</td>\n",
       "      <td>0.001063</td>\n",
       "      <td>0.000087</td>\n",
       "      <td>0.000080</td>\n",
       "    </tr>\n",
       "    <tr>\n",
       "      <th>1</th>\n",
       "      <td>0.002393</td>\n",
       "      <td>0.001586</td>\n",
       "      <td>0.000072</td>\n",
       "      <td>0.000063</td>\n",
       "    </tr>\n",
       "    <tr>\n",
       "      <th>2</th>\n",
       "      <td>0.009193</td>\n",
       "      <td>0.006831</td>\n",
       "      <td>0.000071</td>\n",
       "      <td>0.000058</td>\n",
       "    </tr>\n",
       "    <tr>\n",
       "      <th>3</th>\n",
       "      <td>0.011003</td>\n",
       "      <td>0.007740</td>\n",
       "      <td>0.000072</td>\n",
       "      <td>0.000058</td>\n",
       "    </tr>\n",
       "    <tr>\n",
       "      <th>4</th>\n",
       "      <td>0.013591</td>\n",
       "      <td>0.005843</td>\n",
       "      <td>0.000071</td>\n",
       "      <td>0.000057</td>\n",
       "    </tr>\n",
       "    <tr>\n",
       "      <th>5</th>\n",
       "      <td>0.011760</td>\n",
       "      <td>0.004332</td>\n",
       "      <td>0.000071</td>\n",
       "      <td>0.000056</td>\n",
       "    </tr>\n",
       "  </tbody>\n",
       "</table>\n",
       "</div>"
      ],
      "text/plain": [
       "   Sequencial - while  Sequencial - For  Busca Binária  Busca Interpolada\n",
       "0            0.002334          0.001063       0.000087           0.000080\n",
       "1            0.002393          0.001586       0.000072           0.000063\n",
       "2            0.009193          0.006831       0.000071           0.000058\n",
       "3            0.011003          0.007740       0.000072           0.000058\n",
       "4            0.013591          0.005843       0.000071           0.000057\n",
       "5            0.011760          0.004332       0.000071           0.000056"
      ]
     },
     "execution_count": 18,
     "metadata": {},
     "output_type": "execute_result"
    }
   ],
   "source": [
    "table = {'Sequencial - while':seq_while, 'Sequencial - For': seq_for, 'Busca Binária':bin_vector, \n",
    "     'Busca Interpolada':inter_vector}\n",
    "table = pd.DataFrame(table)\n",
    "table"
   ]
  },
  {
   "cell_type": "markdown",
   "metadata": {},
   "source": [
    "### Comparação entre as duas buscas sequênciais "
   ]
  },
  {
   "cell_type": "code",
   "execution_count": 19,
   "metadata": {},
   "outputs": [
    {
     "data": {
      "text/html": [
       "<div>\n",
       "<style scoped>\n",
       "    .dataframe tbody tr th:only-of-type {\n",
       "        vertical-align: middle;\n",
       "    }\n",
       "\n",
       "    .dataframe tbody tr th {\n",
       "        vertical-align: top;\n",
       "    }\n",
       "\n",
       "    .dataframe thead th {\n",
       "        text-align: right;\n",
       "    }\n",
       "</style>\n",
       "<table border=\"1\" class=\"dataframe\">\n",
       "  <thead>\n",
       "    <tr style=\"text-align: right;\">\n",
       "      <th></th>\n",
       "      <th>Sequencial - while</th>\n",
       "      <th>Sequencial - For</th>\n",
       "      <th>% + rápido</th>\n",
       "    </tr>\n",
       "  </thead>\n",
       "  <tbody>\n",
       "    <tr>\n",
       "      <th>0</th>\n",
       "      <td>0.002334</td>\n",
       "      <td>0.001063</td>\n",
       "      <td>0.544647</td>\n",
       "    </tr>\n",
       "    <tr>\n",
       "      <th>1</th>\n",
       "      <td>0.002393</td>\n",
       "      <td>0.001586</td>\n",
       "      <td>0.337053</td>\n",
       "    </tr>\n",
       "    <tr>\n",
       "      <th>2</th>\n",
       "      <td>0.009193</td>\n",
       "      <td>0.006831</td>\n",
       "      <td>0.256924</td>\n",
       "    </tr>\n",
       "    <tr>\n",
       "      <th>3</th>\n",
       "      <td>0.011003</td>\n",
       "      <td>0.007740</td>\n",
       "      <td>0.296570</td>\n",
       "    </tr>\n",
       "    <tr>\n",
       "      <th>4</th>\n",
       "      <td>0.013591</td>\n",
       "      <td>0.005843</td>\n",
       "      <td>0.570040</td>\n",
       "    </tr>\n",
       "    <tr>\n",
       "      <th>5</th>\n",
       "      <td>0.011760</td>\n",
       "      <td>0.004332</td>\n",
       "      <td>0.631668</td>\n",
       "    </tr>\n",
       "  </tbody>\n",
       "</table>\n",
       "</div>"
      ],
      "text/plain": [
       "   Sequencial - while  Sequencial - For  % + rápido\n",
       "0            0.002334          0.001063    0.544647\n",
       "1            0.002393          0.001586    0.337053\n",
       "2            0.009193          0.006831    0.256924\n",
       "3            0.011003          0.007740    0.296570\n",
       "4            0.013591          0.005843    0.570040\n",
       "5            0.011760          0.004332    0.631668"
      ]
     },
     "execution_count": 19,
     "metadata": {},
     "output_type": "execute_result"
    }
   ],
   "source": [
    "seq = {'Sequencial - while':seq_while, 'Sequencial - For': seq_for, \"% + rápido\": rapidez1}\n",
    "seq = pd.DataFrame(seq)\n",
    "seq"
   ]
  },
  {
   "cell_type": "code",
   "execution_count": 20,
   "metadata": {},
   "outputs": [
    {
     "data": {
      "text/plain": [
       "[<matplotlib.lines.Line2D at 0x7f8bfa1f3208>]"
      ]
     },
     "execution_count": 20,
     "metadata": {},
     "output_type": "execute_result"
    },
    {
     "data": {
      "image/png": "[encoded data removed]",
      "text/plain": [
       "<Figure size 432x288 with 1 Axes>"
      ]
     },
     "metadata": {
      "needs_background": "light"
     },
     "output_type": "display_data"
    }
   ],
   "source": [
    "plt.plot(seq_while, linestyle='-', marker='o', color='blue')\n",
    "plt.plot(seq_for, linestyle='-', marker='o',color='red')"
   ]
  },
  {
   "cell_type": "markdown",
   "metadata": {},
   "source": [
    "### Comparando busca binária e interpolada"
   ]
  },
  {
   "cell_type": "code",
   "execution_count": 21,
   "metadata": {},
   "outputs": [
    {
     "data": {
      "text/html": [
       "<div>\n",
       "<style scoped>\n",
       "    .dataframe tbody tr th:only-of-type {\n",
       "        vertical-align: middle;\n",
       "    }\n",
       "\n",
       "    .dataframe tbody tr th {\n",
       "        vertical-align: top;\n",
       "    }\n",
       "\n",
       "    .dataframe thead th {\n",
       "        text-align: right;\n",
       "    }\n",
       "</style>\n",
       "<table border=\"1\" class=\"dataframe\">\n",
       "  <thead>\n",
       "    <tr style=\"text-align: right;\">\n",
       "      <th></th>\n",
       "      <th>Busca Binária</th>\n",
       "      <th>Busca Interpolada</th>\n",
       "      <th>% + rapida</th>\n",
       "    </tr>\n",
       "  </thead>\n",
       "  <tbody>\n",
       "    <tr>\n",
       "      <th>0</th>\n",
       "      <td>0.000087</td>\n",
       "      <td>0.000080</td>\n",
       "      <td>0.074176</td>\n",
       "    </tr>\n",
       "    <tr>\n",
       "      <th>1</th>\n",
       "      <td>0.000072</td>\n",
       "      <td>0.000063</td>\n",
       "      <td>0.119601</td>\n",
       "    </tr>\n",
       "    <tr>\n",
       "      <th>2</th>\n",
       "      <td>0.000071</td>\n",
       "      <td>0.000058</td>\n",
       "      <td>0.178451</td>\n",
       "    </tr>\n",
       "    <tr>\n",
       "      <th>3</th>\n",
       "      <td>0.000072</td>\n",
       "      <td>0.000058</td>\n",
       "      <td>0.192691</td>\n",
       "    </tr>\n",
       "    <tr>\n",
       "      <th>4</th>\n",
       "      <td>0.000071</td>\n",
       "      <td>0.000057</td>\n",
       "      <td>0.185811</td>\n",
       "    </tr>\n",
       "    <tr>\n",
       "      <th>5</th>\n",
       "      <td>0.000071</td>\n",
       "      <td>0.000056</td>\n",
       "      <td>0.206081</td>\n",
       "    </tr>\n",
       "  </tbody>\n",
       "</table>\n",
       "</div>"
      ],
      "text/plain": [
       "   Busca Binária  Busca Interpolada  % + rapida\n",
       "0       0.000087           0.000080    0.074176\n",
       "1       0.000072           0.000063    0.119601\n",
       "2       0.000071           0.000058    0.178451\n",
       "3       0.000072           0.000058    0.192691\n",
       "4       0.000071           0.000057    0.185811\n",
       "5       0.000071           0.000056    0.206081"
      ]
     },
     "execution_count": 21,
     "metadata": {},
     "output_type": "execute_result"
    }
   ],
   "source": [
    "g = {'Busca Binária':bin_vector, 'Busca Interpolada':inter_vector, '% + rapida':rapidez2}\n",
    "g = pd.DataFrame(g)\n",
    "g"
   ]
  },
  {
   "cell_type": "code",
   "execution_count": 23,
   "metadata": {},
   "outputs": [
    {
     "data": {
      "text/plain": [
       "[<matplotlib.lines.Line2D at 0x7f8bfa40e860>]"
      ]
     },
     "execution_count": 23,
     "metadata": {},
     "output_type": "execute_result"
    },
    {
     "data": {
      "image/png": "[encoded data removed]",
      "text/plain": [
       "<Figure size 432x288 with 1 Axes>"
      ]
     },
     "metadata": {
      "needs_background": "light"
     },
     "output_type": "display_data"
    }
   ],
   "source": [
    "plt.plot(bin_vector, linestyle='-', marker='o', color='purple')\n",
    "plt.plot(inter_vector, linestyle='-', marker='o',color='black')"
   ]
  },
  {
   "cell_type": "markdown",
   "metadata": {},
   "source": [
    "### Comparando Busca Binária e Sequencial -For"
   ]
  },
  {
   "cell_type": "code",
   "execution_count": 22,
   "metadata": {},
   "outputs": [
    {
     "data": {
      "text/html": [
       "<div>\n",
       "<style scoped>\n",
       "    .dataframe tbody tr th:only-of-type {\n",
       "        vertical-align: middle;\n",
       "    }\n",
       "\n",
       "    .dataframe tbody tr th {\n",
       "        vertical-align: top;\n",
       "    }\n",
       "\n",
       "    .dataframe thead th {\n",
       "        text-align: right;\n",
       "    }\n",
       "</style>\n",
       "<table border=\"1\" class=\"dataframe\">\n",
       "  <thead>\n",
       "    <tr style=\"text-align: right;\">\n",
       "      <th></th>\n",
       "      <th>Sequencial - For</th>\n",
       "      <th>Busca Binária</th>\n",
       "      <th>% + rapida</th>\n",
       "    </tr>\n",
       "  </thead>\n",
       "  <tbody>\n",
       "    <tr>\n",
       "      <th>0</th>\n",
       "      <td>0.001063</td>\n",
       "      <td>0.000087</td>\n",
       "      <td>0.918331</td>\n",
       "    </tr>\n",
       "    <tr>\n",
       "      <th>1</th>\n",
       "      <td>0.001586</td>\n",
       "      <td>0.000072</td>\n",
       "      <td>0.954764</td>\n",
       "    </tr>\n",
       "    <tr>\n",
       "      <th>2</th>\n",
       "      <td>0.006831</td>\n",
       "      <td>0.000071</td>\n",
       "      <td>0.989635</td>\n",
       "    </tr>\n",
       "    <tr>\n",
       "      <th>3</th>\n",
       "      <td>0.007740</td>\n",
       "      <td>0.000072</td>\n",
       "      <td>0.990728</td>\n",
       "    </tr>\n",
       "    <tr>\n",
       "      <th>4</th>\n",
       "      <td>0.005843</td>\n",
       "      <td>0.000071</td>\n",
       "      <td>0.987923</td>\n",
       "    </tr>\n",
       "    <tr>\n",
       "      <th>5</th>\n",
       "      <td>0.004332</td>\n",
       "      <td>0.000071</td>\n",
       "      <td>0.983708</td>\n",
       "    </tr>\n",
       "  </tbody>\n",
       "</table>\n",
       "</div>"
      ],
      "text/plain": [
       "   Sequencial - For  Busca Binária  % + rapida\n",
       "0          0.001063       0.000087    0.918331\n",
       "1          0.001586       0.000072    0.954764\n",
       "2          0.006831       0.000071    0.989635\n",
       "3          0.007740       0.000072    0.990728\n",
       "4          0.005843       0.000071    0.987923\n",
       "5          0.004332       0.000071    0.983708"
      ]
     },
     "execution_count": 22,
     "metadata": {},
     "output_type": "execute_result"
    }
   ],
   "source": [
    "comp = {'Sequencial - For': seq_for, 'Busca Binária':bin_vector, '% + rapida':rapidez3}\n",
    "comp = pd.DataFrame(comp)\n",
    "comp"
   ]
  },
  {
   "cell_type": "code",
   "execution_count": 24,
   "metadata": {},
   "outputs": [
    {
     "data": {
      "text/plain": [
       "[<matplotlib.lines.Line2D at 0x7f8bfa12c6d8>]"
      ]
     },
     "execution_count": 24,
     "metadata": {},
     "output_type": "execute_result"
    },
    {
     "data": {
      "image/png": "[encoded data removed]",
      "text/plain": [
       "<Figure size 432x288 with 1 Axes>"
      ]
     },
     "metadata": {
      "needs_background": "light"
     },
     "output_type": "display_data"
    }
   ],
   "source": [
    "plt.plot(seq_for, linestyle='-', marker='o', color='yellow')\n",
    "plt.plot(bin_vector, linestyle='-', marker='o',color='green')"
   ]
  }
 ],
 "metadata": {
  "kernelspec": {
   "display_name": "Python 3",
   "language": "python",
   "name": "python3"
  },
  "language_info": {
   "codemirror_mode": {
    "name": "ipython",
    "version": 3
   },
   "file_extension": ".py",
   "mimetype": "text/x-python",
   "name": "python",
   "nbconvert_exporter": "python",
   "pygments_lexer": "ipython3",
   "version": "3.7.3"
  }
 },
 "nbformat": 4,
 "nbformat_minor": 2
}
